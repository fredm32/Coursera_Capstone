{
 "cells": [
  {
   "cell_type": "markdown",
   "metadata": {},
   "source": [
    "This notebook will be used only for Capstone Project"
   ]
  },
  {
   "cell_type": "code",
   "execution_count": 2,
   "metadata": {},
   "outputs": [],
   "source": [
    "import pandas as pd\n",
    "import numpy as np"
   ]
  },
  {
   "cell_type": "code",
   "execution_count": 3,
   "metadata": {},
   "outputs": [
    {
     "name": "stdout",
     "output_type": "stream",
     "text": [
      "Hello Capstone Project Course!\n"
     ]
    }
   ],
   "source": [
    "print(\"Hello Capstone Project Course!\")"
   ]
  },
  {
   "cell_type": "markdown",
   "metadata": {},
   "source": [
    "### Introduction"
   ]
  },
  {
   "cell_type": "markdown",
   "metadata": {},
   "source": [
    "This data science project is made as a part of the IBM Data Science Professional Certificate program. Project aim for the author is to work with a real dataset(s) and solve a real problem, using data science methodology. \n",
    "Project main objects are:\n",
    "* Define a problem\n",
    "* Define a data that is needed to solve the problem\n",
    "* Search for data \n",
    "* Use Foursquare location data to solve the problem\n",
    "\n"
   ]
  },
  {
   "cell_type": "markdown",
   "metadata": {},
   "source": [
    "### Defining a problem"
   ]
  },
  {
   "cell_type": "markdown",
   "metadata": {},
   "source": [
    "Imagine a situation where Gym chain likes to open 5 venues in Toronto, most populated city in Canada. City with 103 neighbourhoods is big, so company needs to analyze which neighbourhoods of the city have the most potential clients. Analyzing population density should hedge against making gym in the commercial neighbourhood and to find out how much potential customers there are. We are using k-means to cluster neighbourhoods together from the best perspective for Gym to hopeless. "
   ]
  },
  {
   "cell_type": "markdown",
   "metadata": {},
   "source": [
    "### Data"
   ]
  },
  {
   "cell_type": "markdown",
   "metadata": {},
   "source": [
    "For solving the problem, we need different datasets. \n",
    "\n",
    "1. List of postal codes to define Toronto neighbourhoods. Solving this data need, we use Wikipedia page (https://en.wikipedia.org/wiki/List_of_postal_codes_of_Canada:_M), where are listed all Canada postal codes starting with M. Postal Codes starting with M belong to Toronto. We are going to use BeautifulSoup package to scrape the data from the webpage.\n",
    "\n",
    "2. Foursquare API. Foursquare database consists of different Venues with its details, including category, longitude and latitude. Foursquare gives access to json files which we structure and wrangle the data into suitable form.\n",
    "\n",
    "3. We need longitude and latitude for using Foursquare location data. For that we use data from http://cocl.us/Geospatial_data, where all Toronto postal codes are listed with its longitude and latitude. We are going to use Wget to import csv and pandas to turn it into dataframe.\n",
    "\n",
    "4. Canada population data divided by postal code. Statistics Canada provide different kind of information about Canada. We are agoing to use population data csv from following link (https://www12.statcan.gc.ca/census-recensement/2016/dp-pd/hlt-fst/pd-pl/Tables/CompFile.cfm?Lang=Eng&T=1201&OFT=FULLCSV). Data is from the last Census of Population, which took place in 2016. We are going to use Wget to import csv and pandas to turn it into dataframe.\n"
   ]
  },
  {
   "cell_type": "markdown",
   "metadata": {},
   "source": [
    "### Steps to solve the problem"
   ]
  },
  {
   "cell_type": "markdown",
   "metadata": {},
   "source": [
    "1. If all data is gathered and wrangled to dataframe, we start by connecting Toronto neighbourhoods data, using postcode as a key, with longitude-latitude and population data.\n",
    "\n",
    "2. Next, we get Venue data from Foursquare database. Using Category to filter out the Gyms which are in 500m radius of neighbourhoods, we get the number of Gyms near each neighbourhood. \n",
    "\n",
    "3. Then we use population and sum of existing gyms to cluster the neighbourhoods from best fit for Gym business to hopeless. For clustering we use k-means. \n",
    "\n",
    "4. When we have clusters, we are going to visualize neighbourhoods using choropleth map."
   ]
  },
  {
   "cell_type": "code",
   "execution_count": null,
   "metadata": {},
   "outputs": [],
   "source": []
  }
 ],
 "metadata": {
  "kernelspec": {
   "display_name": "Python",
   "language": "python",
   "name": "conda-env-python-py"
  },
  "language_info": {
   "codemirror_mode": {
    "name": "ipython",
    "version": 3
   },
   "file_extension": ".py",
   "mimetype": "text/x-python",
   "name": "python",
   "nbconvert_exporter": "python",
   "pygments_lexer": "ipython3",
   "version": "3.6.12"
  }
 },
 "nbformat": 4,
 "nbformat_minor": 4
}
